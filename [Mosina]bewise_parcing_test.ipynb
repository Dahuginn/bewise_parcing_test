{
  "nbformat": 4,
  "nbformat_minor": 0,
  "metadata": {
    "colab": {
      "provenance": [],
      "collapsed_sections": [],
      "authorship_tag": "ABX9TyNqGxRKq8VC9p3Q1SFkR2rN",
      "include_colab_link": true
    },
    "kernelspec": {
      "name": "python3",
      "display_name": "Python 3"
    },
    "language_info": {
      "name": "python"
    }
  },
  "cells": [
    {
      "cell_type": "markdown",
      "metadata": {
        "id": "view-in-github",
        "colab_type": "text"
      },
      "source": [
        "<a href=\"https://colab.research.google.com/github/Dahuginn/bewise_parcing_test/blob/main/%5BMosina%5Dbewise_parcing_test.ipynb\" target=\"_parent\"><img src=\"https://colab.research.google.com/assets/colab-badge.svg\" alt=\"Open In Colab\"/></a>"
      ]
    },
    {
      "cell_type": "code",
      "source": [
        "!pip install pymorphy2\n",
        "!pip install yargy"
      ],
      "metadata": {
        "id": "nTqoY4psVOn9"
      },
      "execution_count": null,
      "outputs": []
    },
    {
      "cell_type": "code",
      "execution_count": 2,
      "metadata": {
        "id": "8z4o8dI7RVun"
      },
      "outputs": [],
      "source": [
        "import pandas as pd\n",
        "import numpy as np\n",
        "import pymorphy2\n",
        "from yargy import Parser, rule, or_\n",
        "from yargy.predicates import gram, dictionary\n",
        "from yargy.pipelines import morph_pipeline"
      ]
    },
    {
      "cell_type": "markdown",
      "source": [
        "# Загрузка данных"
      ],
      "metadata": {
        "id": "tCD3gZfDR0Vk"
      }
    },
    {
      "cell_type": "code",
      "source": [
        "test_data = pd.read_csv('test_data.csv')"
      ],
      "metadata": {
        "id": "0gzgroiGRqcO"
      },
      "execution_count": 3,
      "outputs": []
    },
    {
      "cell_type": "code",
      "source": [
        "test_data.info()"
      ],
      "metadata": {
        "colab": {
          "base_uri": "https://localhost:8080/"
        },
        "id": "81QIIKfPSo5d",
        "outputId": "58f900bd-a5bc-4d8a-f004-4dc57ce03e37"
      },
      "execution_count": 4,
      "outputs": [
        {
          "output_type": "stream",
          "name": "stdout",
          "text": [
            "<class 'pandas.core.frame.DataFrame'>\n",
            "RangeIndex: 480 entries, 0 to 479\n",
            "Data columns (total 4 columns):\n",
            " #   Column  Non-Null Count  Dtype \n",
            "---  ------  --------------  ----- \n",
            " 0   dlg_id  480 non-null    int64 \n",
            " 1   line_n  480 non-null    int64 \n",
            " 2   role    480 non-null    object\n",
            " 3   text    480 non-null    object\n",
            "dtypes: int64(2), object(2)\n",
            "memory usage: 15.1+ KB\n"
          ]
        }
      ]
    },
    {
      "cell_type": "code",
      "source": [
        "test_data.head()"
      ],
      "metadata": {
        "colab": {
          "base_uri": "https://localhost:8080/",
          "height": 206
        },
        "id": "LLZQ87wTSqzU",
        "outputId": "fe434820-8766-47ae-ba74-701a50195f1d"
      },
      "execution_count": 5,
      "outputs": [
        {
          "output_type": "execute_result",
          "data": {
            "text/plain": [
              "   dlg_id  line_n     role                                               text\n",
              "0       0       0   client                                               Алло\n",
              "1       0       1  manager                                  Алло здравствуйте\n",
              "2       0       2   client                                        Добрый день\n",
              "3       0       3  manager  Меня зовут ангелина компания диджитал бизнес з...\n",
              "4       0       4   client                                                Ага"
            ],
            "text/html": [
              "\n",
              "  <div id=\"df-51e6db97-4ca6-46d8-84a1-59ab32d8941e\">\n",
              "    <div class=\"colab-df-container\">\n",
              "      <div>\n",
              "<style scoped>\n",
              "    .dataframe tbody tr th:only-of-type {\n",
              "        vertical-align: middle;\n",
              "    }\n",
              "\n",
              "    .dataframe tbody tr th {\n",
              "        vertical-align: top;\n",
              "    }\n",
              "\n",
              "    .dataframe thead th {\n",
              "        text-align: right;\n",
              "    }\n",
              "</style>\n",
              "<table border=\"1\" class=\"dataframe\">\n",
              "  <thead>\n",
              "    <tr style=\"text-align: right;\">\n",
              "      <th></th>\n",
              "      <th>dlg_id</th>\n",
              "      <th>line_n</th>\n",
              "      <th>role</th>\n",
              "      <th>text</th>\n",
              "    </tr>\n",
              "  </thead>\n",
              "  <tbody>\n",
              "    <tr>\n",
              "      <th>0</th>\n",
              "      <td>0</td>\n",
              "      <td>0</td>\n",
              "      <td>client</td>\n",
              "      <td>Алло</td>\n",
              "    </tr>\n",
              "    <tr>\n",
              "      <th>1</th>\n",
              "      <td>0</td>\n",
              "      <td>1</td>\n",
              "      <td>manager</td>\n",
              "      <td>Алло здравствуйте</td>\n",
              "    </tr>\n",
              "    <tr>\n",
              "      <th>2</th>\n",
              "      <td>0</td>\n",
              "      <td>2</td>\n",
              "      <td>client</td>\n",
              "      <td>Добрый день</td>\n",
              "    </tr>\n",
              "    <tr>\n",
              "      <th>3</th>\n",
              "      <td>0</td>\n",
              "      <td>3</td>\n",
              "      <td>manager</td>\n",
              "      <td>Меня зовут ангелина компания диджитал бизнес з...</td>\n",
              "    </tr>\n",
              "    <tr>\n",
              "      <th>4</th>\n",
              "      <td>0</td>\n",
              "      <td>4</td>\n",
              "      <td>client</td>\n",
              "      <td>Ага</td>\n",
              "    </tr>\n",
              "  </tbody>\n",
              "</table>\n",
              "</div>\n",
              "      <button class=\"colab-df-convert\" onclick=\"convertToInteractive('df-51e6db97-4ca6-46d8-84a1-59ab32d8941e')\"\n",
              "              title=\"Convert this dataframe to an interactive table.\"\n",
              "              style=\"display:none;\">\n",
              "        \n",
              "  <svg xmlns=\"http://www.w3.org/2000/svg\" height=\"24px\"viewBox=\"0 0 24 24\"\n",
              "       width=\"24px\">\n",
              "    <path d=\"M0 0h24v24H0V0z\" fill=\"none\"/>\n",
              "    <path d=\"M18.56 5.44l.94 2.06.94-2.06 2.06-.94-2.06-.94-.94-2.06-.94 2.06-2.06.94zm-11 1L8.5 8.5l.94-2.06 2.06-.94-2.06-.94L8.5 2.5l-.94 2.06-2.06.94zm10 10l.94 2.06.94-2.06 2.06-.94-2.06-.94-.94-2.06-.94 2.06-2.06.94z\"/><path d=\"M17.41 7.96l-1.37-1.37c-.4-.4-.92-.59-1.43-.59-.52 0-1.04.2-1.43.59L10.3 9.45l-7.72 7.72c-.78.78-.78 2.05 0 2.83L4 21.41c.39.39.9.59 1.41.59.51 0 1.02-.2 1.41-.59l7.78-7.78 2.81-2.81c.8-.78.8-2.07 0-2.86zM5.41 20L4 18.59l7.72-7.72 1.47 1.35L5.41 20z\"/>\n",
              "  </svg>\n",
              "      </button>\n",
              "      \n",
              "  <style>\n",
              "    .colab-df-container {\n",
              "      display:flex;\n",
              "      flex-wrap:wrap;\n",
              "      gap: 12px;\n",
              "    }\n",
              "\n",
              "    .colab-df-convert {\n",
              "      background-color: #E8F0FE;\n",
              "      border: none;\n",
              "      border-radius: 50%;\n",
              "      cursor: pointer;\n",
              "      display: none;\n",
              "      fill: #1967D2;\n",
              "      height: 32px;\n",
              "      padding: 0 0 0 0;\n",
              "      width: 32px;\n",
              "    }\n",
              "\n",
              "    .colab-df-convert:hover {\n",
              "      background-color: #E2EBFA;\n",
              "      box-shadow: 0px 1px 2px rgba(60, 64, 67, 0.3), 0px 1px 3px 1px rgba(60, 64, 67, 0.15);\n",
              "      fill: #174EA6;\n",
              "    }\n",
              "\n",
              "    [theme=dark] .colab-df-convert {\n",
              "      background-color: #3B4455;\n",
              "      fill: #D2E3FC;\n",
              "    }\n",
              "\n",
              "    [theme=dark] .colab-df-convert:hover {\n",
              "      background-color: #434B5C;\n",
              "      box-shadow: 0px 1px 3px 1px rgba(0, 0, 0, 0.15);\n",
              "      filter: drop-shadow(0px 1px 2px rgba(0, 0, 0, 0.3));\n",
              "      fill: #FFFFFF;\n",
              "    }\n",
              "  </style>\n",
              "\n",
              "      <script>\n",
              "        const buttonEl =\n",
              "          document.querySelector('#df-51e6db97-4ca6-46d8-84a1-59ab32d8941e button.colab-df-convert');\n",
              "        buttonEl.style.display =\n",
              "          google.colab.kernel.accessAllowed ? 'block' : 'none';\n",
              "\n",
              "        async function convertToInteractive(key) {\n",
              "          const element = document.querySelector('#df-51e6db97-4ca6-46d8-84a1-59ab32d8941e');\n",
              "          const dataTable =\n",
              "            await google.colab.kernel.invokeFunction('convertToInteractive',\n",
              "                                                     [key], {});\n",
              "          if (!dataTable) return;\n",
              "\n",
              "          const docLinkHtml = 'Like what you see? Visit the ' +\n",
              "            '<a target=\"_blank\" href=https://colab.research.google.com/notebooks/data_table.ipynb>data table notebook</a>'\n",
              "            + ' to learn more about interactive tables.';\n",
              "          element.innerHTML = '';\n",
              "          dataTable['output_type'] = 'display_data';\n",
              "          await google.colab.output.renderOutput(dataTable, element);\n",
              "          const docLink = document.createElement('div');\n",
              "          docLink.innerHTML = docLinkHtml;\n",
              "          element.appendChild(docLink);\n",
              "        }\n",
              "      </script>\n",
              "    </div>\n",
              "  </div>\n",
              "  "
            ]
          },
          "metadata": {},
          "execution_count": 5
        }
      ]
    },
    {
      "cell_type": "markdown",
      "source": [
        "Создадим колонку и будем помечать флажками, если нашли, что искали"
      ],
      "metadata": {
        "id": "NGccm0k0sXdT"
      }
    },
    {
      "cell_type": "code",
      "source": [
        "test_data['gave_name'] = \" \"\n",
        "test_data['name'] = \" \"\n",
        "test_data['greeting'] = \" \"\n",
        "test_data['company'] = \" \"\n",
        "test_data['bye'] = \" \""
      ],
      "metadata": {
        "id": "G2-ODKtjsHYo"
      },
      "execution_count": 7,
      "outputs": []
    },
    {
      "cell_type": "markdown",
      "source": [
        "Нам нужны только реплики менеджера:"
      ],
      "metadata": {
        "id": "Blc3y_AJA8GK"
      }
    },
    {
      "cell_type": "code",
      "source": [
        "text = test_data[test_data['role'] == 'manager']"
      ],
      "metadata": {
        "id": "3IuGzVpE5gqI"
      },
      "execution_count": 8,
      "outputs": []
    },
    {
      "cell_type": "markdown",
      "source": [
        "# Извлекаем реплики с приветствием"
      ],
      "metadata": {
        "id": "hnPnrGtjWUYH"
      }
    },
    {
      "cell_type": "code",
      "source": [
        "greeting = morph_pipeline(['здравствуйте', 'добрый день'])\n",
        "rule_greeting = rule(greeting)\n",
        "parser = Parser(rule_greeting)\n",
        "for index, row in text.iterrows():\n",
        "  for match in parser.findall(row['text']):\n",
        "    test_data.at[index,'greeting'] = True"
      ],
      "metadata": {
        "id": "ZDw_qgLR-71p"
      },
      "execution_count": 9,
      "outputs": []
    },
    {
      "cell_type": "markdown",
      "source": [
        "# Извлекаем реплики, где менеджер представился"
      ],
      "metadata": {
        "id": "pR1cM7eEWY3o"
      }
    },
    {
      "cell_type": "markdown",
      "source": [
        "Когда менеджер представляется, он говорит \"меня зовут <>\" или \"<> меня зовут\", \"это <>\"."
      ],
      "metadata": {
        "id": "clpczXhiqhqh"
      }
    },
    {
      "cell_type": "code",
      "source": [
        "words = {'зовут', 'это'}\n",
        "rule_name = or_(rule(dictionary(words), gram('Name')), rule(gram('Name'), dictionary({'зовут', 'это'})))\n",
        "parser = Parser(rule_name)\n",
        "for index, row in text.iterrows():\n",
        "  for match in parser.findall(row['text']):\n",
        "    test_data.at[index,'gave_name'] = True\n",
        "    for i in [_.value for _ in match.tokens]:\n",
        "      if i not in words:\n",
        "          test_data.at[index,'name'] = i"
      ],
      "metadata": {
        "id": "PtJyue0gDiJI"
      },
      "execution_count": 10,
      "outputs": []
    },
    {
      "cell_type": "markdown",
      "source": [
        "# Извлекаем название компании"
      ],
      "metadata": {
        "id": "DGJKQcNAWiau"
      }
    },
    {
      "cell_type": "markdown",
      "source": [
        "После представления менеджер называет имя компании. Менеджер говорит \"компания <название компании>\""
      ],
      "metadata": {
        "id": "yhgpbUIRM6q5"
      }
    },
    {
      "cell_type": "code",
      "source": [
        "words = {'компания', 'компании'}\n",
        "rule_name = rule(dictionary(words), gram('NOUN'))\n",
        "parser = Parser(rule_name)\n",
        "for index, row in text.iterrows():\n",
        "  for match in parser.findall(row['text']):\n",
        "    for i in [_.value for _ in match.tokens]:\n",
        "      if i != 'компания':\n",
        "        test_data.at[index,'company'] = i"
      ],
      "metadata": {
        "id": "IKkA53G5HChi"
      },
      "execution_count": 11,
      "outputs": []
    },
    {
      "cell_type": "markdown",
      "source": [
        "# Извлекаем, где менеджер попрощался"
      ],
      "metadata": {
        "id": "50wC0Dy5Wkho"
      }
    },
    {
      "cell_type": "code",
      "source": [
        "bye = morph_pipeline(['до свидания', 'всего доброго'])\n",
        "rule_bye = rule(bye)\n",
        "parser = Parser(rule_bye)\n",
        "for index, row in text.iterrows():\n",
        "  for match in parser.findall(row['text']):\n",
        "    test_data.at[index,'bye'] = True"
      ],
      "metadata": {
        "id": "tm6Kex4vNwFW"
      },
      "execution_count": 12,
      "outputs": []
    },
    {
      "cell_type": "markdown",
      "source": [
        "# Проверка менеджера"
      ],
      "metadata": {
        "id": "oN5SUteBOu3M"
      }
    },
    {
      "cell_type": "markdown",
      "source": [
        "Так выглядят данные после парсинга (на примере первого диалога):"
      ],
      "metadata": {
        "id": "eKCxeKmsXk_W"
      }
    },
    {
      "cell_type": "code",
      "source": [
        "test_data[test_data['dlg_id'] == 0]"
      ],
      "metadata": {
        "colab": {
          "base_uri": "https://localhost:8080/",
          "height": 424
        },
        "id": "9P2O5sgZXezn",
        "outputId": "3b21bccf-a736-4fa7-92b5-79ff0ecde866"
      },
      "execution_count": 16,
      "outputs": [
        {
          "output_type": "execute_result",
          "data": {
            "text/plain": [
              "     dlg_id  line_n     role  \\\n",
              "0         0       0   client   \n",
              "1         0       1  manager   \n",
              "2         0       2   client   \n",
              "3         0       3  manager   \n",
              "4         0       4   client   \n",
              "..      ...     ...      ...   \n",
              "104       0     104   client   \n",
              "105       0     105   client   \n",
              "106       0     106  manager   \n",
              "107       0     107   client   \n",
              "108       0     108  manager   \n",
              "\n",
              "                                                  text gave_name      name  \\\n",
              "0                                                 Алло                       \n",
              "1                                    Алло здравствуйте                       \n",
              "2                                          Добрый день                       \n",
              "3    Меня зовут ангелина компания диджитал бизнес з...      True  ангелина   \n",
              "4                                                  Ага                       \n",
              "..                                                 ...       ...       ...   \n",
              "104                                          Никто вот                       \n",
              "105                                Да спасибо огромное                       \n",
              "106            И вам спасибо большое за обратную связь                       \n",
              "107                                                Угу                       \n",
              "108                         Всего хорошего до свидания                       \n",
              "\n",
              "    greeting   company   bye  \n",
              "0                             \n",
              "1       True                  \n",
              "2                             \n",
              "3             диджитал        \n",
              "4                             \n",
              "..       ...       ...   ...  \n",
              "104                           \n",
              "105                           \n",
              "106                           \n",
              "107                           \n",
              "108                     True  \n",
              "\n",
              "[109 rows x 9 columns]"
            ],
            "text/html": [
              "\n",
              "  <div id=\"df-4d13952a-62eb-479c-ab21-c53a3d8df2ae\">\n",
              "    <div class=\"colab-df-container\">\n",
              "      <div>\n",
              "<style scoped>\n",
              "    .dataframe tbody tr th:only-of-type {\n",
              "        vertical-align: middle;\n",
              "    }\n",
              "\n",
              "    .dataframe tbody tr th {\n",
              "        vertical-align: top;\n",
              "    }\n",
              "\n",
              "    .dataframe thead th {\n",
              "        text-align: right;\n",
              "    }\n",
              "</style>\n",
              "<table border=\"1\" class=\"dataframe\">\n",
              "  <thead>\n",
              "    <tr style=\"text-align: right;\">\n",
              "      <th></th>\n",
              "      <th>dlg_id</th>\n",
              "      <th>line_n</th>\n",
              "      <th>role</th>\n",
              "      <th>text</th>\n",
              "      <th>gave_name</th>\n",
              "      <th>name</th>\n",
              "      <th>greeting</th>\n",
              "      <th>company</th>\n",
              "      <th>bye</th>\n",
              "    </tr>\n",
              "  </thead>\n",
              "  <tbody>\n",
              "    <tr>\n",
              "      <th>0</th>\n",
              "      <td>0</td>\n",
              "      <td>0</td>\n",
              "      <td>client</td>\n",
              "      <td>Алло</td>\n",
              "      <td></td>\n",
              "      <td></td>\n",
              "      <td></td>\n",
              "      <td></td>\n",
              "      <td></td>\n",
              "    </tr>\n",
              "    <tr>\n",
              "      <th>1</th>\n",
              "      <td>0</td>\n",
              "      <td>1</td>\n",
              "      <td>manager</td>\n",
              "      <td>Алло здравствуйте</td>\n",
              "      <td></td>\n",
              "      <td></td>\n",
              "      <td>True</td>\n",
              "      <td></td>\n",
              "      <td></td>\n",
              "    </tr>\n",
              "    <tr>\n",
              "      <th>2</th>\n",
              "      <td>0</td>\n",
              "      <td>2</td>\n",
              "      <td>client</td>\n",
              "      <td>Добрый день</td>\n",
              "      <td></td>\n",
              "      <td></td>\n",
              "      <td></td>\n",
              "      <td></td>\n",
              "      <td></td>\n",
              "    </tr>\n",
              "    <tr>\n",
              "      <th>3</th>\n",
              "      <td>0</td>\n",
              "      <td>3</td>\n",
              "      <td>manager</td>\n",
              "      <td>Меня зовут ангелина компания диджитал бизнес з...</td>\n",
              "      <td>True</td>\n",
              "      <td>ангелина</td>\n",
              "      <td></td>\n",
              "      <td>диджитал</td>\n",
              "      <td></td>\n",
              "    </tr>\n",
              "    <tr>\n",
              "      <th>4</th>\n",
              "      <td>0</td>\n",
              "      <td>4</td>\n",
              "      <td>client</td>\n",
              "      <td>Ага</td>\n",
              "      <td></td>\n",
              "      <td></td>\n",
              "      <td></td>\n",
              "      <td></td>\n",
              "      <td></td>\n",
              "    </tr>\n",
              "    <tr>\n",
              "      <th>...</th>\n",
              "      <td>...</td>\n",
              "      <td>...</td>\n",
              "      <td>...</td>\n",
              "      <td>...</td>\n",
              "      <td>...</td>\n",
              "      <td>...</td>\n",
              "      <td>...</td>\n",
              "      <td>...</td>\n",
              "      <td>...</td>\n",
              "    </tr>\n",
              "    <tr>\n",
              "      <th>104</th>\n",
              "      <td>0</td>\n",
              "      <td>104</td>\n",
              "      <td>client</td>\n",
              "      <td>Никто вот</td>\n",
              "      <td></td>\n",
              "      <td></td>\n",
              "      <td></td>\n",
              "      <td></td>\n",
              "      <td></td>\n",
              "    </tr>\n",
              "    <tr>\n",
              "      <th>105</th>\n",
              "      <td>0</td>\n",
              "      <td>105</td>\n",
              "      <td>client</td>\n",
              "      <td>Да спасибо огромное</td>\n",
              "      <td></td>\n",
              "      <td></td>\n",
              "      <td></td>\n",
              "      <td></td>\n",
              "      <td></td>\n",
              "    </tr>\n",
              "    <tr>\n",
              "      <th>106</th>\n",
              "      <td>0</td>\n",
              "      <td>106</td>\n",
              "      <td>manager</td>\n",
              "      <td>И вам спасибо большое за обратную связь</td>\n",
              "      <td></td>\n",
              "      <td></td>\n",
              "      <td></td>\n",
              "      <td></td>\n",
              "      <td></td>\n",
              "    </tr>\n",
              "    <tr>\n",
              "      <th>107</th>\n",
              "      <td>0</td>\n",
              "      <td>107</td>\n",
              "      <td>client</td>\n",
              "      <td>Угу</td>\n",
              "      <td></td>\n",
              "      <td></td>\n",
              "      <td></td>\n",
              "      <td></td>\n",
              "      <td></td>\n",
              "    </tr>\n",
              "    <tr>\n",
              "      <th>108</th>\n",
              "      <td>0</td>\n",
              "      <td>108</td>\n",
              "      <td>manager</td>\n",
              "      <td>Всего хорошего до свидания</td>\n",
              "      <td></td>\n",
              "      <td></td>\n",
              "      <td></td>\n",
              "      <td></td>\n",
              "      <td>True</td>\n",
              "    </tr>\n",
              "  </tbody>\n",
              "</table>\n",
              "<p>109 rows × 9 columns</p>\n",
              "</div>\n",
              "      <button class=\"colab-df-convert\" onclick=\"convertToInteractive('df-4d13952a-62eb-479c-ab21-c53a3d8df2ae')\"\n",
              "              title=\"Convert this dataframe to an interactive table.\"\n",
              "              style=\"display:none;\">\n",
              "        \n",
              "  <svg xmlns=\"http://www.w3.org/2000/svg\" height=\"24px\"viewBox=\"0 0 24 24\"\n",
              "       width=\"24px\">\n",
              "    <path d=\"M0 0h24v24H0V0z\" fill=\"none\"/>\n",
              "    <path d=\"M18.56 5.44l.94 2.06.94-2.06 2.06-.94-2.06-.94-.94-2.06-.94 2.06-2.06.94zm-11 1L8.5 8.5l.94-2.06 2.06-.94-2.06-.94L8.5 2.5l-.94 2.06-2.06.94zm10 10l.94 2.06.94-2.06 2.06-.94-2.06-.94-.94-2.06-.94 2.06-2.06.94z\"/><path d=\"M17.41 7.96l-1.37-1.37c-.4-.4-.92-.59-1.43-.59-.52 0-1.04.2-1.43.59L10.3 9.45l-7.72 7.72c-.78.78-.78 2.05 0 2.83L4 21.41c.39.39.9.59 1.41.59.51 0 1.02-.2 1.41-.59l7.78-7.78 2.81-2.81c.8-.78.8-2.07 0-2.86zM5.41 20L4 18.59l7.72-7.72 1.47 1.35L5.41 20z\"/>\n",
              "  </svg>\n",
              "      </button>\n",
              "      \n",
              "  <style>\n",
              "    .colab-df-container {\n",
              "      display:flex;\n",
              "      flex-wrap:wrap;\n",
              "      gap: 12px;\n",
              "    }\n",
              "\n",
              "    .colab-df-convert {\n",
              "      background-color: #E8F0FE;\n",
              "      border: none;\n",
              "      border-radius: 50%;\n",
              "      cursor: pointer;\n",
              "      display: none;\n",
              "      fill: #1967D2;\n",
              "      height: 32px;\n",
              "      padding: 0 0 0 0;\n",
              "      width: 32px;\n",
              "    }\n",
              "\n",
              "    .colab-df-convert:hover {\n",
              "      background-color: #E2EBFA;\n",
              "      box-shadow: 0px 1px 2px rgba(60, 64, 67, 0.3), 0px 1px 3px 1px rgba(60, 64, 67, 0.15);\n",
              "      fill: #174EA6;\n",
              "    }\n",
              "\n",
              "    [theme=dark] .colab-df-convert {\n",
              "      background-color: #3B4455;\n",
              "      fill: #D2E3FC;\n",
              "    }\n",
              "\n",
              "    [theme=dark] .colab-df-convert:hover {\n",
              "      background-color: #434B5C;\n",
              "      box-shadow: 0px 1px 3px 1px rgba(0, 0, 0, 0.15);\n",
              "      filter: drop-shadow(0px 1px 2px rgba(0, 0, 0, 0.3));\n",
              "      fill: #FFFFFF;\n",
              "    }\n",
              "  </style>\n",
              "\n",
              "      <script>\n",
              "        const buttonEl =\n",
              "          document.querySelector('#df-4d13952a-62eb-479c-ab21-c53a3d8df2ae button.colab-df-convert');\n",
              "        buttonEl.style.display =\n",
              "          google.colab.kernel.accessAllowed ? 'block' : 'none';\n",
              "\n",
              "        async function convertToInteractive(key) {\n",
              "          const element = document.querySelector('#df-4d13952a-62eb-479c-ab21-c53a3d8df2ae');\n",
              "          const dataTable =\n",
              "            await google.colab.kernel.invokeFunction('convertToInteractive',\n",
              "                                                     [key], {});\n",
              "          if (!dataTable) return;\n",
              "\n",
              "          const docLinkHtml = 'Like what you see? Visit the ' +\n",
              "            '<a target=\"_blank\" href=https://colab.research.google.com/notebooks/data_table.ipynb>data table notebook</a>'\n",
              "            + ' to learn more about interactive tables.';\n",
              "          element.innerHTML = '';\n",
              "          dataTable['output_type'] = 'display_data';\n",
              "          await google.colab.output.renderOutput(dataTable, element);\n",
              "          const docLink = document.createElement('div');\n",
              "          docLink.innerHTML = docLinkHtml;\n",
              "          element.appendChild(docLink);\n",
              "        }\n",
              "      </script>\n",
              "    </div>\n",
              "  </div>\n",
              "  "
            ]
          },
          "metadata": {},
          "execution_count": 16
        }
      ]
    },
    {
      "cell_type": "markdown",
      "source": [
        "Проверим условие «В каждом диалоге обязательно необходимо поздороваться и попрощаться с клиентом». Вернем название диалога и True, если требование выполнено, False - в обратном случае."
      ],
      "metadata": {
        "id": "2zzKEBAgXzaD"
      }
    },
    {
      "cell_type": "code",
      "source": [
        "def good_manager(data):\n",
        "  if (data.loc[data['greeting'] == True].empty == True):\n",
        "    return (np.unique(data['dlg_id'])[0], False)\n",
        "  elif data.loc[data['bye'] == True].empty == True:\n",
        "    return (np.unique(data['dlg_id'])[0], False)\n",
        "  else:\n",
        "    return (np.unique(data['dlg_id'])[0], True)"
      ],
      "metadata": {
        "id": "Bn8SwniPOqXd"
      },
      "execution_count": 13,
      "outputs": []
    },
    {
      "cell_type": "markdown",
      "source": [
        "Отберем все диалоги:"
      ],
      "metadata": {
        "id": "49tFQiGqQvb_"
      }
    },
    {
      "cell_type": "code",
      "source": [
        "dgs = [test_data[test_data['dlg_id'] == 0], test_data[test_data['dlg_id'] == 1], test_data[test_data['dlg_id'] == 2], test_data[test_data['dlg_id'] == 3], test_data[test_data['dlg_id'] == 4], test_data[test_data['dlg_id'] == 5]]"
      ],
      "metadata": {
        "id": "DW0idc46Qfp-"
      },
      "execution_count": 14,
      "outputs": []
    },
    {
      "cell_type": "code",
      "source": [
        "for i in dgs:\n",
        "  num, is_good = good_manager(i)\n",
        "  print(f\"Номер диалога: {num}, требование выполнено: {is_good}\")"
      ],
      "metadata": {
        "colab": {
          "base_uri": "https://localhost:8080/"
        },
        "id": "scRXLQS7RSZ7",
        "outputId": "993c96a5-4a78-4564-8688-5d4a321c1952"
      },
      "execution_count": 15,
      "outputs": [
        {
          "output_type": "stream",
          "name": "stdout",
          "text": [
            "Номер диалога: 0, требование выполнено: True\n",
            "Номер диалога: 1, требование выполнено: True\n",
            "Номер диалога: 2, требование выполнено: False\n",
            "Номер диалога: 3, требование выполнено: True\n",
            "Номер диалога: 4, требование выполнено: False\n",
            "Номер диалога: 5, требование выполнено: False\n"
          ]
        }
      ]
    }
  ]
}